{
 "cells": [
  {
   "cell_type": "markdown",
   "id": "ae394356",
   "metadata": {},
   "source": [
    "# Lab 1\n",
    "Dylan Jeronimo Kennedy djk8402\n",
    "\n",
    "Brian Tweedy bst222"
   ]
  },
  {
   "cell_type": "markdown",
   "id": "3d7b2598",
   "metadata": {},
   "source": [
    "Also, in the first cell, change the cell type to mark down and write the name of all group\n",
    "members and their net ids under the heading"
   ]
  },
  {
   "cell_type": "markdown",
   "id": "7f4bda91",
   "metadata": {},
   "source": [
    "5 - Create a new cell (type- code) and write the following code snippet and run the cell.\n",
    "\n",
    "Group = \"<Your Group Number>\"\n",
    "    \n",
    "Course = \"ISSEM\"\n",
    "    \n",
    "Lab = “Lab1\"\n",
    "    \n",
    "print(\"Group:\"+Group, Lab, \"Course:\"+Course)"
   ]
  },
  {
   "cell_type": "code",
   "execution_count": 2,
   "id": "173d08f9",
   "metadata": {},
   "outputs": [
    {
     "name": "stdout",
     "output_type": "stream",
     "text": [
      "Group:9 Lab1 Course:ISSEM\n"
     ]
    }
   ],
   "source": [
    "Group = \"9\"\n",
    "    \n",
    "Course = \"ISSEM\"\n",
    "    \n",
    "Lab = \"Lab1\"\n",
    "    \n",
    "print(\"Group:\"+Group, Lab, \"Course:\"+Course)"
   ]
  },
  {
   "cell_type": "markdown",
   "id": "85bb8b8f",
   "metadata": {},
   "source": [
    "6 - Create a new cell, define the following variables in it:\n",
    "\n",
    "X=7\n",
    "\n",
    "Y = 'ISSEM'\n",
    "\n",
    "Z = [\"red\", \"blue\", \"green\"]\n",
    "\n",
    "Find the data type of each using print(type(variable)) command. Also write data type of\n",
    "each, using comments in the same cell"
   ]
  },
  {
   "cell_type": "code",
   "execution_count": 3,
   "id": "8d02a7b4",
   "metadata": {},
   "outputs": [
    {
     "name": "stdout",
     "output_type": "stream",
     "text": [
      "<class 'int'>\n",
      "<class 'str'>\n",
      "<class 'list'>\n"
     ]
    }
   ],
   "source": [
    "X=7 #int (integer)\n",
    "\n",
    "Y = 'ISSEM' #str (string)\n",
    "\n",
    "Z = [\"red\", \"blue\", \"green\"] #list (list)\n",
    "\n",
    "print(type(X))\n",
    "print(type(Y))\n",
    "print(type(Z))"
   ]
  },
  {
   "cell_type": "markdown",
   "id": "a2a545f3",
   "metadata": {},
   "source": [
    "7 - This is the question from the Python assessment. What operation following piece of code is\n",
    "doing. Use comments to explain the relevant parts of the code.\n",
    "\n",
    "str=\"The quick brown fox jumps over the lazy dog\"\n",
    "\n",
    "arr = str.split(\" \")\n",
    "\n",
    "temp=[]\n",
    "\n",
    "temp.append(arr[0])\n",
    "\n",
    "temp.append(arr[1])\n",
    "\n",
    "arr[0]= arr[len(arr)-2]\n",
    "\n",
    "arr[1]= arr[len(arr)-1]\n",
    "\n",
    "arr[len(arr)-2] = temp[0]\n",
    "\n",
    "arr[len(arr)-1] = temp[1]\n",
    "\n",
    "str=' '.join(arr)"
   ]
  },
  {
   "cell_type": "code",
   "execution_count": null,
   "id": "6dd4b968",
   "metadata": {},
   "outputs": [],
   "source": []
  },
  {
   "cell_type": "markdown",
   "id": "1c175602",
   "metadata": {},
   "source": [
    "8 - Write the following function in the next cell.\n",
    "def dummy(var):\n",
    "\n",
    "x=str(var)\n",
    "\n",
    "y=len(x)-1\n",
    "\n",
    "z=''\n",
    "\n",
    "while y >= 0:\n",
    "\n",
    "z = z + x[y]\n",
    "\n",
    "y -=1\n",
    "\n",
    "return int(z)\n",
    "\n",
    "Using an example, explain what this function is doing in comments."
   ]
  },
  {
   "cell_type": "code",
   "execution_count": null,
   "id": "2e7ef236",
   "metadata": {},
   "outputs": [],
   "source": []
  },
  {
   "cell_type": "markdown",
   "id": "64c87f64",
   "metadata": {},
   "source": [
    "9 - In the next cell, use the above dummy function to check if below numbers are palindromes\n",
    "or not.\n",
    "\n",
    "121, 123, 414, 866. 988, 101"
   ]
  },
  {
   "cell_type": "code",
   "execution_count": null,
   "id": "7d00a281",
   "metadata": {},
   "outputs": [],
   "source": []
  },
  {
   "cell_type": "markdown",
   "id": "26203473",
   "metadata": {},
   "source": [
    "10 - Following is the code for Calculate_Discount function which you implement in the Python\n",
    "Assessment.\n",
    "\n",
    "&emsp;def Calculate_Discount(price):\n",
    "\n",
    "&emsp;&emsp;if price >= 500:\n",
    "\n",
    "&emsp;&emsp;&emsp;final_price = price * (70/100)\n",
    "\n",
    "&emsp;&emsp;elif price >= 350 and price < 500:\n",
    "\n",
    "&emsp;&emsp;&emsp;final_price = price * (80/100)\n",
    "\n",
    "&emsp;&emsp;elif price >= 150 and price < 350:\n",
    "\n",
    "&emsp;&emsp;&emsp;final_price = price * (90/100)\n",
    "\n",
    "&emsp;&emsp;elif price >= 10 and price < 150:\n",
    "\n",
    "&emsp;&emsp;&emsp;final_price = price * (95/100)\n",
    "\n",
    "&emsp;&emsp;elif price > 0 and price < 10:\n",
    "\n",
    "&emsp;&emsp;&emsp;final_price = price * (50/100)\n",
    "\n",
    "&emsp;&emsp;else:\n",
    "\n",
    "&emsp;&emsp;&emsp;final_price = \"Price cannot be negative. Please enter a positive\n",
    "value.\"\n",
    "\n",
    "&emsp;&emsp;return final_price\n",
    "\n",
    "Write this code in next Cell and Calculate the discount for the following prices (Hint: Use for\n",
    "loop):\n",
    "- 440\n",
    "- 265\n",
    "- 144\n",
    "- -10\n",
    "- 8"
   ]
  }
 ],
 "metadata": {
  "kernelspec": {
   "display_name": "Python 3 (ipykernel)",
   "language": "python",
   "name": "python3"
  },
  "language_info": {
   "codemirror_mode": {
    "name": "ipython",
    "version": 3
   },
   "file_extension": ".py",
   "mimetype": "text/x-python",
   "name": "python",
   "nbconvert_exporter": "python",
   "pygments_lexer": "ipython3",
   "version": "3.9.12"
  }
 },
 "nbformat": 4,
 "nbformat_minor": 5
}
